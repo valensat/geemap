{
    "cells": [
        {
            "cell_type": "markdown",
            "metadata": {},
            "source": [
                "<a href=\"https://githubtocolab.com/gee-community/geemap/blob/master/examples/notebooks/52_cartoee_gif.ipynb\" target=\"_parent\"><img src=\"https://colab.research.google.com/assets/colab-badge.svg\" alt=\"Open in Colab\"/></a>\n",
                "\n",
                "Uncomment the following line to install [geemap](https://geemap.org) and [cartopy](https://scitools.org.uk/cartopy/docs/latest/installing.html#installing) if needed. Keep in mind that cartopy can be challenging to install. If you are unable to install cartopy on your computer, you can try Google Colab with this the [notebook example](https://colab.research.google.com/github/gee-community/geemap/blob/master/examples/notebooks/cartoee_colab.ipynb). \n",
                "\n",
                "See below the commands to install cartopy and geemap using conda/mamba:\n",
                "\n",
                "```\n",
                "conda create -n carto python=3.8\n",
                "conda activate carto\n",
                "conda install mamba -c conda-forge\n",
                "mamba install cartopy scipy -c conda-forge\n",
                "mamba install geemap -c conda-forge\n",
                "jupyter notebook\n",
                "```"
            ]
        },
        {
            "cell_type": "markdown",
            "metadata": {},
            "source": [
                "# How to create timelapse animations using cartoee"
            ]
        },
        {
            "cell_type": "code",
            "execution_count": 8,
            "metadata": {},
            "outputs": [],
            "source": [
                "import os\n",
                "import ee\n",
                "import geemap\n",
                "from geemap import cartoee\n",
                "\n",
                "%matplotlib inline"
            ]
        },
        {
            "cell_type": "code",
            "execution_count": 2,
            "metadata": {},
            "outputs": [],
            "source": [
                "# geemap.update_package()"
            ]
        },
        {
            "cell_type": "markdown",
            "metadata": {},
            "source": [
                "## Create an interactive map"
            ]
        },
        {
            "cell_type": "code",
            "execution_count": 3,
            "metadata": {},
            "outputs": [
                {
                    "data": {
                        "application/vnd.jupyter.widget-view+json": {
                            "model_id": "24298cb42ac7405db389ee39574d0b8d",
                            "version_major": 2,
                            "version_minor": 0
                        },
                        "text/plain": [
                            "Map(center=[20, 0], controls=(WidgetControl(options=['position', 'transparent_bg'], widget=HBox(children=(Togg…"
                        ]
                    },
                    "execution_count": 3,
                    "metadata": {},
                    "output_type": "execute_result"
                }
            ],
            "source": [
                "Map = geemap.Map()\n",
                "Map"
            ]
        },
        {
            "cell_type": "markdown",
            "metadata": {},
            "source": [
                "## Create an ImageCollection"
            ]
        },
        {
            "cell_type": "code",
            "execution_count": 4,
            "metadata": {},
            "outputs": [],
            "source": [
                "lon = -115.1585\n",
                "lat = 36.1500\n",
                "start_year = 1984\n",
                "end_year = 2011\n",
                "\n",
                "point = ee.Geometry.Point(lon, lat)\n",
                "years = ee.List.sequence(start_year, end_year)\n",
                "\n",
                "\n",
                "def get_best_image(year):\n",
                "    start_date = ee.Date.fromYMD(year, 1, 1)\n",
                "    end_date = ee.Date.fromYMD(year, 12, 31)\n",
                "    image = (\n",
                "        ee.ImageCollection(\"LANDSAT/LT05/C01/T1_SR\")\n",
                "        .filterBounds(point)\n",
                "        .filterDate(start_date, end_date)\n",
                "        .sort(\"CLOUD_COVER\")\n",
                "        .first()\n",
                "    )\n",
                "    return ee.Image(image)\n",
                "\n",
                "\n",
                "collection = ee.ImageCollection(years.map(get_best_image))"
            ]
        },
        {
            "cell_type": "markdown",
            "metadata": {},
            "source": [
                "## Display a sample image"
            ]
        },
        {
            "cell_type": "code",
            "execution_count": 5,
            "metadata": {},
            "outputs": [
                {
                    "data": {
                        "application/vnd.jupyter.widget-view+json": {
                            "model_id": "24298cb42ac7405db389ee39574d0b8d",
                            "version_major": 2,
                            "version_minor": 0
                        },
                        "text/plain": [
                            "Map(center=[36.15, -115.1585], controls=(WidgetControl(options=['position', 'transparent_bg'], widget=HBox(chi…"
                        ]
                    },
                    "execution_count": 5,
                    "metadata": {},
                    "output_type": "execute_result"
                }
            ],
            "source": [
                "vis_params = {\"bands\": ['B4', 'B3', 'B2'], \"min\": 0, \"max\": 5000}\n",
                "\n",
                "image = ee.Image(collection.first())\n",
                "Map.addLayer(image, vis_params, 'First image')\n",
                "Map.setCenter(lon, lat, 8)\n",
                "Map"
            ]
        },
        {
            "cell_type": "markdown",
            "metadata": {},
            "source": [
                "## Get a sample output image"
            ]
        },
        {
            "cell_type": "code",
            "execution_count": 6,
            "metadata": {},
            "outputs": [
                {
                    "ename": "NameError",
                    "evalue": "name 'ccrs' is not defined",
                    "output_type": "error",
                    "traceback": [
                        "\u001b[1;31m---------------------------------------------------------------------------\u001b[0m",
                        "\u001b[1;31mNameError\u001b[0m                                 Traceback (most recent call last)",
                        "Cell \u001b[1;32mIn[6], line 9\u001b[0m\n\u001b[0;32m      6\u001b[0m fig \u001b[39m=\u001b[39m plt\u001b[39m.\u001b[39mfigure(figsize\u001b[39m=\u001b[39m(\u001b[39m10\u001b[39m, \u001b[39m8\u001b[39m))\n\u001b[0;32m      8\u001b[0m \u001b[39m# use cartoee to get a map\u001b[39;00m\n\u001b[1;32m----> 9\u001b[0m ax \u001b[39m=\u001b[39m cartoee\u001b[39m.\u001b[39;49mget_map(image, region\u001b[39m=\u001b[39;49mregion, vis_params\u001b[39m=\u001b[39;49mvis_params)\n\u001b[0;32m     11\u001b[0m \u001b[39m# add gridlines to the map at a specified interval\u001b[39;00m\n\u001b[0;32m     12\u001b[0m cartoee\u001b[39m.\u001b[39madd_gridlines(ax, interval\u001b[39m=\u001b[39m[\u001b[39m0.2\u001b[39m, \u001b[39m0.2\u001b[39m], linestyle\u001b[39m=\u001b[39m\u001b[39m\"\u001b[39m\u001b[39m:\u001b[39m\u001b[39m\"\u001b[39m)\n",
                        "File \u001b[1;32mc:\\Users\\UCG\\miniconda3\\envs\\geemap\\lib\\site-packages\\geemap\\cartoee.py:153\u001b[0m, in \u001b[0;36mget_map\u001b[1;34m(ee_object, proj, basemap, zoom_level, **kwargs)\u001b[0m\n\u001b[0;32m    150\u001b[0m     ee_object \u001b[39m=\u001b[39m ee_object\u001b[39m.\u001b[39mmosaic()\n\u001b[0;32m    152\u001b[0m \u001b[39mif\u001b[39;00m proj \u001b[39mis\u001b[39;00m \u001b[39mNone\u001b[39;00m:\n\u001b[1;32m--> 153\u001b[0m     proj \u001b[39m=\u001b[39m ccrs\u001b[39m.\u001b[39mPlateCarree()\n\u001b[0;32m    155\u001b[0m \u001b[39mif\u001b[39;00m \u001b[39m\"\u001b[39m\u001b[39mstyle\u001b[39m\u001b[39m\"\u001b[39m \u001b[39min\u001b[39;00m kwargs:\n\u001b[0;32m    156\u001b[0m     \u001b[39mdel\u001b[39;00m kwargs[\u001b[39m\"\u001b[39m\u001b[39mstyle\u001b[39m\u001b[39m\"\u001b[39m]\n",
                        "\u001b[1;31mNameError\u001b[0m: name 'ccrs' is not defined"
                    ]
                },
                {
                    "data": {
                        "text/plain": [
                            "<Figure size 1000x800 with 0 Axes>"
                        ]
                    },
                    "metadata": {},
                    "output_type": "display_data"
                }
            ],
            "source": [
                "w = 0.4\n",
                "h = 0.3\n",
                "\n",
                "region = [lon + w, lat - h, lon - w, lat + h]\n",
                "\n",
                "fig = plt.figure(figsize=(10, 8))\n",
                "\n",
                "# use cartoee to get a map\n",
                "ax = cartoee.get_map(image, region=region, vis_params=vis_params)\n",
                "\n",
                "# add gridlines to the map at a specified interval\n",
                "cartoee.add_gridlines(ax, interval=[0.2, 0.2], linestyle=\":\")\n",
                "\n",
                "# add north arrow\n",
                "north_arrow_dict = {\n",
                "    \"text\": \"N\",\n",
                "    \"xy\": (0.1, 0.3),\n",
                "    \"arrow_length\": 0.15,\n",
                "    \"text_color\": \"white\",\n",
                "    \"arrow_color\": \"white\",\n",
                "    \"fontsize\": 20,\n",
                "    \"width\": 5,\n",
                "    \"headwidth\": 15,\n",
                "    \"ha\": \"center\",\n",
                "    \"va\": \"center\",\n",
                "}\n",
                "cartoee.add_north_arrow(ax, **north_arrow_dict)\n",
                "\n",
                "# add scale bar\n",
                "scale_bar_dict = {\n",
                "    \"length\": 10,\n",
                "    \"xy\": (0.1, 0.05),\n",
                "    \"linewidth\": 3,\n",
                "    \"fontsize\": 20,\n",
                "    \"color\": \"white\",\n",
                "    \"unit\": \"km\",\n",
                "    \"ha\": \"center\",\n",
                "    \"va\": \"bottom\",\n",
                "}\n",
                "cartoee.add_scale_bar_lite(ax, **scale_bar_dict)\n",
                "\n",
                "ax.set_title(label='Las Vegas, NV', fontsize=15)\n",
                "\n",
                "show()"
            ]
        },
        {
            "cell_type": "markdown",
            "metadata": {},
            "source": [
                "## Create timelapse animations"
            ]
        },
        {
            "cell_type": "code",
            "execution_count": null,
            "metadata": {},
            "outputs": [],
            "source": [
                "cartoee.get_image_collection_gif(\n",
                "    ee_ic=collection,\n",
                "    out_dir=os.path.expanduser(\"~/Downloads/timelapse\"),\n",
                "    out_gif=\"animation.gif\",\n",
                "    vis_params=vis_params,\n",
                "    region=region,\n",
                "    fps=5,\n",
                "    mp4=True,\n",
                "    grid_interval=(0.2, 0.2),\n",
                "    plot_title=\"Las Vegas, NV\",\n",
                "    date_format='YYYY-MM-dd',\n",
                "    fig_size=(10, 8),\n",
                "    dpi_plot=100,\n",
                "    file_format=\"png\",\n",
                "    north_arrow_dict=north_arrow_dict,\n",
                "    scale_bar_dict=scale_bar_dict,\n",
                "    verbose=True,\n",
                ")"
            ]
        }
    ],
    "metadata": {
        "kernelspec": {
            "display_name": "Python 3",
            "language": "python",
            "name": "python3"
        },
        "language_info": {
            "codemirror_mode": {
                "name": "ipython",
                "version": 3
            },
            "file_extension": ".py",
            "mimetype": "text/x-python",
            "name": "python",
            "nbconvert_exporter": "python",
            "pygments_lexer": "ipython3",
            "version": "3.9.16"
        }
    },
    "nbformat": 4,
    "nbformat_minor": 5
}
